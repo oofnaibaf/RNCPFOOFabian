{
 "cells": [
  {
   "cell_type": "code",
   "execution_count": 2,
   "metadata": {},
   "outputs": [],
   "source": [
    "import pandas as pd\n",
    "\n",
    "# Load the dataset\n",
    "file_path = \"unique_orders.csv\"  # Replace with your actual file path\n",
    "orders = pd.read_csv(file_path)\n"
   ]
  },
  {
   "cell_type": "code",
   "execution_count": null,
   "metadata": {},
   "outputs": [
    {
     "name": "stdout",
     "output_type": "stream",
     "text": [
      "Cleaned file saved as C:/ProgramData/MySQL/MySQL Server 8.0/Uploads/unique_orders_cleaned_V2.csv\n"
     ]
    },
    {
     "ename": "",
     "evalue": "",
     "output_type": "error",
     "traceback": [
      "\u001b[1;31mThe Kernel crashed while executing code in the current cell or a previous cell. \n",
      "\u001b[1;31mPlease review the code in the cell(s) to identify a possible cause of the failure. \n",
      "\u001b[1;31mClick <a href='https://aka.ms/vscodeJupyterKernelCrash'>here</a> for more info. \n",
      "\u001b[1;31mView Jupyter <a href='command:jupyter.viewOutput'>log</a> for further details."
     ]
    }
   ],
   "source": [
    "# Load the orders file\n",
    "file_path = \"C:/ProgramData/MySQL/MySQL Server 8.0/Uploads/unique_orders_cleaned_truncated.csv\"\n",
    "orders = pd.read_csv(file_path, delimiter=',')  # Adjust the delimiter if needed\n",
    "\n",
    "# Convert OrderDate and ShippingDate to MySQL-compatible format\n",
    "orders['OrderDate'] = pd.to_datetime(orders['OrderDate'], format='%m/%d/%y').dt.strftime('%Y-%m-%d')\n",
    "orders['ShippingDate'] = pd.to_datetime(orders['ShippingDate'], format='%m/%d/%y').dt.strftime('%Y-%m-%d')\n",
    "\n",
    "orders['Profit'] = orders['Profit'].fillna(0)\n",
    "\n",
    "# Save the cleaned file\n",
    "cleaned_file_path = \"C:/ProgramData/MySQL/MySQL Server 8.0/Uploads/unique_orders_cleaned_V2.csv\"\n",
    "orders.to_csv(cleaned_file_path, index=False)\n",
    "print(f\"Cleaned file saved as {cleaned_file_path}\")\n",
    "\n",
    "\n"
   ]
  },
  {
   "cell_type": "code",
   "execution_count": 5,
   "metadata": {},
   "outputs": [
    {
     "name": "stdout",
     "output_type": "stream",
     "text": [
      "Cleaned file saved as unique_orders_cleaned.csv\n"
     ]
    }
   ],
   "source": [
    "# Drop duplicate OrderIDs, keeping the first occurrence\n",
    "orders = orders.drop_duplicates(subset='OrderID', keep='first')\n",
    "\n",
    "# Save the updated CSV\n",
    "cleaned_file_path = \"unique_orders_cleaned.csv\"\n",
    "orders.to_csv(cleaned_file_path, index=False)\n",
    "print(f\"Cleaned file saved as {cleaned_file_path}\")"
   ]
  },
  {
   "cell_type": "code",
   "execution_count": 9,
   "metadata": {},
   "outputs": [
    {
     "name": "stdout",
     "output_type": "stream",
     "text": [
      "Columns in the file: ['OrderID;OrderDate;ShippingDate;ShippingMode;CustomerID;Sales;Profit;Discount']\n"
     ]
    }
   ],
   "source": [
    "print(\"Columns in the file:\", orders.columns.tolist())\n",
    "if 'Order ID' in orders.columns:\n",
    "    orders.rename(columns={'Order ID': 'OrderID'}, inplace=True)"
   ]
  },
  {
   "cell_type": "code",
   "execution_count": 12,
   "metadata": {},
   "outputs": [
    {
     "data": {
      "text/plain": [
       "['OrderID;OrderDate;ShippingDate;ShippingMode;CustomerID;Sales;Profit;Discount']"
      ]
     },
     "execution_count": 12,
     "metadata": {},
     "output_type": "execute_result"
    }
   ],
   "source": [
    "orders.columns.tolist()"
   ]
  },
  {
   "cell_type": "code",
   "execution_count": 15,
   "metadata": {},
   "outputs": [
    {
     "name": "stdout",
     "output_type": "stream",
     "text": [
      "Columns in the file: ['OrderID', 'OrderDate', 'ShippingDate', 'ShippingMode', 'CustomerID', 'Sales', 'Profit', 'Discount']\n"
     ]
    }
   ],
   "source": [
    "file_path = \"C:/ProgramData/MySQL/MySQL Server 8.0/Uploads/unique_orders_cleaned.csv\"\n",
    "orders = pd.read_csv(file_path, delimiter=';')  # Specify semicolon as the delimiter\n",
    "\n",
    "# Print the column names to confirm they are split correctly\n",
    "print(\"Columns in the file:\", orders.columns.tolist())\n",
    "\n",
    "orders.to_csv(\"unique_orders_cleaned_truncated.csv\", index=False)"
   ]
  }
 ],
 "metadata": {
  "kernelspec": {
   "display_name": "clean_env",
   "language": "python",
   "name": "python3"
  },
  "language_info": {
   "codemirror_mode": {
    "name": "ipython",
    "version": 3
   },
   "file_extension": ".py",
   "mimetype": "text/x-python",
   "name": "python",
   "nbconvert_exporter": "python",
   "pygments_lexer": "ipython3",
   "version": "3.9.20"
  }
 },
 "nbformat": 4,
 "nbformat_minor": 2
}
