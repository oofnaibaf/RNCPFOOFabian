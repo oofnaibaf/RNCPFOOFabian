{
 "cells": [
  {
   "cell_type": "code",
   "execution_count": null,
   "metadata": {},
   "outputs": [
    {
     "name": "stdout",
     "output_type": "stream",
     "text": [
      "Columns in the dataset: ['Row ID', 'OrderID', 'OrderDate', 'ShippingDate', 'ShippingMode', 'CustomerID', 'CustomerName', 'Segment', 'City', 'State', 'Country', 'PostalCode', 'Market', 'Region', 'ProductID', 'Category', 'SubCategory', 'ProductName', 'Price', 'Quantity', 'Discount', 'Profit', 'Shipping Cost', 'OrderPriority', 'Sales']\n",
      "Data preprocessing complete. Files generated:\n",
      "1. unique_customers.csv\n",
      "2. customer_locations.csv\n",
      "3. unique_orders.csv\n",
      "4. unique_products.csv\n",
      "5. order_details.csv\n"
     ]
    }
   ],
   "source": [
    "import pandas as pd\n",
    "\n",
    "# Load the dataset\n",
    "file_path = \"../data/clean/Global_Super_Store.csv\"  # Adjust this to your actual file path\n",
    "data = pd.read_csv(file_path, delimiter=';', encoding='utf-8')\n",
    "\n",
    "# Print the column names to confirm they match expectations\n",
    "print(\"Columns in the dataset:\", data.columns.tolist())\n",
    "\n",
    "# Clean up column names to remove leading/trailing spaces\n",
    "data.columns = data.columns.str.strip()\n",
    "\n",
    "# 1. Prepare the Customers table (unique by CustomerID)\n",
    "customers = data[['CustomerID', 'CustomerName', 'Segment']].drop_duplicates(subset='CustomerID')\n",
    "customers.to_csv('unique_customers.csv', index=False)\n",
    "\n",
    "# 2. Prepare the CustomerLocations table (unique by CustomerID and location details)\n",
    "customer_locations = data[['CustomerID', 'City', 'State', 'Country', 'PostalCode']].drop_duplicates()\n",
    "customer_locations.to_csv('customer_locations.csv', index=False)\n",
    "\n",
    "# 3. Prepare the Orders table (unique by OrderID)\n",
    "orders = data[['OrderID', 'OrderDate', 'ShippingDate', 'ShippingMode', 'CustomerID', 'Sales', 'Profit', 'Discount']].drop_duplicates(subset='OrderID')\n",
    "orders.to_csv('unique_orders.csv', index=False)\n",
    "\n",
    "\n",
    "# 5. Prepare the OrderDetails table (retain all rows)\n",
    "order_details = data[['Row ID', 'OrderID', 'ProductID', 'Quantity', 'Shipping Cost', 'OrderPriority']].rename(\n",
    "    columns={'Row ID': 'RowID', 'Shipping Cost': 'ShippingCost'}\n",
    ")\n",
    "order_details.to_csv('order_details.csv', index=False)\n",
    "\n",
    "print(\"Data preprocessing complete. Files generated:\")\n",
    "print(\"1. unique_customers.csv\")\n",
    "print(\"2. customer_locations.csv\")\n",
    "print(\"3. unique_orders.csv\")\n",
    "print(\"4. unique_products.csv\")\n",
    "print(\"5. order_details.csv\")\n"
   ]
  },
  {
   "cell_type": "code",
   "execution_count": 26,
   "metadata": {},
   "outputs": [],
   "source": [
    "# 4. Problems with Products table - Prepare the Products table (unique by ProductID)\n",
    "products = data[['ProductID', 'Category', 'SubCategory', 'ProductName', 'Price']].drop_duplicates(subset='ProductID')\n",
    "products.to_csv('unique_products.csv', index=False)\n"
   ]
  },
  {
   "cell_type": "code",
   "execution_count": 13,
   "metadata": {},
   "outputs": [
    {
     "name": "stdout",
     "output_type": "stream",
     "text": [
      "Columns in the dataset: ['Row ID', 'OrderID', 'OrderDate', 'ShippingDate', 'ShippingMode', 'CustomerID', 'CustomerName', 'Segment', 'City', 'State', 'Country', 'PostalCode', 'Market', 'Region', 'ProductID', 'Category', 'SubCategory', 'ProductName', 'Price', 'Quantity', 'Discount', 'Profit', 'Shipping Cost', 'OrderPriority', 'Sales']\n"
     ]
    }
   ],
   "source": [
    "print(\"Columns in the dataset:\", data.columns.tolist())"
   ]
  },
  {
   "cell_type": "code",
   "execution_count": 16,
   "metadata": {},
   "outputs": [],
   "source": [
    "required_columns = ['ProductID', 'Category', 'SubCategory', 'ProductName', 'Price']\n",
    "missing_columns = [col for col in required_columns if col not in data.columns]\n",
    "if missing_columns:\n",
    "    print(f\"Missing columns for Products table: {missing_columns}\")\n",
    "    exit()"
   ]
  },
  {
   "cell_type": "code",
   "execution_count": 17,
   "metadata": {},
   "outputs": [],
   "source": [
    "products = data[['ProductID', 'Category', 'SubCategory', 'ProductName', 'Price']].drop_duplicates(subset='ProductID')\n",
    "if products.empty:\n",
    "    print(\"Products DataFrame is empty after processing. Verify input data.\")\n",
    "    print(data[['ProductID', 'Category', 'SubCategory', 'ProductName', 'Price']].dropna().head())  # Check non-empty rows\n",
    "    exit()"
   ]
  },
  {
   "cell_type": "code",
   "execution_count": 19,
   "metadata": {},
   "outputs": [
    {
     "data": {
      "text/plain": [
       "(10292, 5)"
      ]
     },
     "execution_count": 19,
     "metadata": {},
     "output_type": "execute_result"
    }
   ],
   "source": [
    "products.shape"
   ]
  },
  {
   "cell_type": "code",
   "execution_count": 20,
   "metadata": {},
   "outputs": [
    {
     "name": "stdout",
     "output_type": "stream",
     "text": [
      "ProductID      0\n",
      "Category       0\n",
      "SubCategory    0\n",
      "ProductName    0\n",
      "Price          0\n",
      "dtype: int64\n"
     ]
    }
   ],
   "source": [
    "print(products.isnull().sum())"
   ]
  },
  {
   "cell_type": "code",
   "execution_count": 21,
   "metadata": {},
   "outputs": [
    {
     "name": "stdout",
     "output_type": "stream",
     "text": [
      "True\n"
     ]
    }
   ],
   "source": [
    "print(products['ProductID'].is_unique)"
   ]
  },
  {
   "cell_type": "code",
   "execution_count": 22,
   "metadata": {},
   "outputs": [
    {
     "name": "stdout",
     "output_type": "stream",
     "text": [
      "Empty DataFrame\n",
      "Columns: [ProductID, Category, SubCategory, ProductName, Price]\n",
      "Index: []\n"
     ]
    }
   ],
   "source": [
    "missing_product_ids = products[products['ProductID'].isnull()]\n",
    "print(missing_product_ids)"
   ]
  },
  {
   "cell_type": "code",
   "execution_count": 23,
   "metadata": {},
   "outputs": [
    {
     "name": "stdout",
     "output_type": "stream",
     "text": [
      "File loaded successfully with shape: (10292, 5)\n",
      "Inconsistent column count at line 3: OFF-FA-10000490,Office Supplies,Fasteners,\"OIC Binder Clips, Mini, 1/4\"\" Capacity, Black1.24\",1.0\n",
      "Inconsistent column count at line 18: OFF-FA-10001332,Office Supplies,Fasteners,\"Acco Banker's Clasps, 5 3/4\"\"-Long2.88\",1.0\n",
      "Inconsistent column count at line 45: OFF-PA-10002615,Office Supplies,Paper,\"Ampad Gold Fibre Wirebound Steno Books, 6\"\" x 9\"\", Gregg Ruled4.41\",1.0\n",
      "Inconsistent column count at line 46: OFF-PA-10001622,Office Supplies,Paper,\"Ampad Poly Cover Wirebound Steno Book, 6\"\" x 9\"\" Assorted Colors, Gregg Ruled4.54\",1.0\n",
      "Inconsistent column count at line 49: OFF-BI-10000343,Office Supplies,Binders,\"Pressboard Covers with Storage Hooks, 9 1/2\"\" x 11\"\", Light Blue4.91\",1.0\n",
      "Inconsistent column count at line 67: OFF-PA-10001838,Office Supplies,Paper,\"Adams Telephone Message Book W/Dividers/Space For Phone Numbers, 5 1/4\"\"X8 1/2\"\", 300/Messages5.88\",1.0\n",
      "Inconsistent column count at line 73: OFF-ST-10001505,Office Supplies,Storage,\"Perma STOR-ALL Hanging File Box, 13 1/8\"\"W x 12 1/4\"\"D x 10 1/2\"\"H5.98\",1.0\n",
      "Inconsistent column count at line 101: OFF-SU-10004290,Office Supplies,Supplies,\"Acme Design Line 8\"\" Stainless Steel Bent Scissors w/Champagne Handles, 3-1/8\"\" Cut6.84\",1.0\n",
      "Inconsistent column count at line 120: OFF-PA-10004569,Office Supplies,Paper,\"Wirebound Message Books, Two 4 1/4\"\" x 5\"\" Forms per Page7.61\",1.0\n",
      "Inconsistent column count at line 121: OFF-PA-10001892,Office Supplies,Paper,\"Rediform Wirebound \"\"Phone Memo\"\" Message Book, 11 x 5-3/47.64\",1.0\n",
      "Inconsistent column count at line 137: OFF-PA-10000141,Office Supplies,Paper,\"Ampad Evidence Wirebond Steno Books, 6\"\" x 9\"\"4.36\",2.0\n",
      "Inconsistent column count at line 141: OFF-PA-10000726,Office Supplies,Paper,\"Black Print Carbonless Snap-Off Rapid Letter, 8 1/2\"\" x 7\"\"9.11\",1.0\n",
      "Inconsistent column count at line 144: OFF-PA-10002893,Office Supplies,Paper,\"Wirebound Service Call Books, 5 1/2\"\" x 4\"\"9.68\",1.0\n",
      "Inconsistent column count at line 151: OFF-BI-10003694,Office Supplies,Binders,\"Avery 3 1/2\"\" Diskette Storage Pages, 10/Pack10.44\",1.0\n",
      "Inconsistent column count at line 220: OFF-PA-10003424,Office Supplies,Paper,\"\"\"While you Were Out\"\" Message Book, One Form per Page7.42\",2.0\n",
      "Inconsistent column count at line 239: OFF-BI-10004970,Office Supplies,Binders,\"ACCOHIDE 3-Ring Binder, Blue, 1\"\"8.26\",2.0\n",
      "Inconsistent column count at line 299: OFF-BI-10000822,Office Supplies,Binders,\"Acco PRESSTEX Data Binder with Storage Hooks, Light Blue, 9 1/2\"\" X 11\"\"10.76\",2.0\n",
      "Inconsistent column count at line 306: OFF-PA-10001994,Office Supplies,Paper,\"Ink Jet Note and Greeting Cards, 8-1/2\"\" x 5-1/2\"\" Card Size22.48\",1.0\n",
      "Inconsistent column count at line 309: OFF-PA-10004470,Office Supplies,Paper,\"Adams Write n' Stick Phone Message Book, 11\"\" X 5 1/4\"\", 200 Messages11.36\",2.0\n",
      "Inconsistent column count at line 337: OFF-PA-10004675,Office Supplies,Paper,\"Telephone Message Books with Fax/Mobile Section, 5 1/2\"\" x 3 3/16\"\"12.7\",2.0\n",
      "Inconsistent column count at line 394: OFF-BI-10002215,Office Supplies,Binders,\"Wilson Jones Hanging View Binder, White, 1\"\"14.2\",2.0\n",
      "Inconsistent column count at line 406: TEC-PH-10004924,Technology,Phones,\"SKILCRAFT Telephone Shoulder Rest, 2\"\" x 6.5\"\" x 2.5\"\", Black14.78\",2.0\n",
      "Inconsistent column count at line 419: OFF-PA-10000241,Office Supplies,Paper,\"IBM Multi-Purpose Copy Paper, 8 1/2 x 11\"\", Case30.98\",1.0\n",
      "Inconsistent column count at line 428: OFF-BI-10002897,Office Supplies,Binders,\"Black Avery Memo-Size 3-Ring Binder, 5 1/2\"\" x 8 1/2\"\"11.01\",3.0\n",
      "Inconsistent column count at line 432: OFF-PA-10000380,Office Supplies,Paper,\"REDIFORM Incoming/Outgoing Call Register, 11\"\" X 8 1/2\"\", 100 Messages16.68\",2.0\n",
      "Inconsistent column count at line 438: OFF-PA-10000350,Office Supplies,Paper,\"Message Book, Standard Line \"\"While You Were Out\"\", 5 1/2\"\" X 4\"\", 200 Sets/Book17.12\",2.0\n",
      "Inconsistent column count at line 439: OFF-BI-10000605,Office Supplies,Binders,\"Acco Pressboard Covers with Storage Hooks, 9 1/2\"\" x 11\"\", Executive Red11.43\",3.0\n",
      "Inconsistent column count at line 458: OFF-PA-10001776,Office Supplies,Paper,\"Wirebound Message Books, Four 2 3/4\"\" x 5\"\" Forms per Page, 600 Sets per Book18.54\",2.0\n",
      "Inconsistent column count at line 463: FUR-FU-10001602,Furniture,Furnishings,\"Eldon Delta Triangular Chair Mat, 52\"\" x 58\"\", Clear37.93\",1.0\n",
      "Inconsistent column count at line 472: OFF-BI-10002571,Office Supplies,Binders,\"Avery Framed View Binder, EZD Ring (Locking), Navy, 1 1/2\"\"19.96\",2.0\n",
      "Inconsistent column count at line 481: OFF-PA-10000174,Office Supplies,Paper,\"Message Book, Wirebound, Four 5 1/2\"\" X 4\"\" Forms/Pg., 200 Dupl. Sets/Book20.56\",2.0\n",
      "Inconsistent column count at line 485: OFF-LA-10001158,Office Supplies,Labels,\"Avery Address/Shipping Labels for Typewriters, 4\"\" x 2\"\"20.7\",2.0\n",
      "Inconsistent column count at line 488: OFF-BI-10001628,Office Supplies,Binders,\"Acco Data Flex Cable Posts For Top & Bottom Load Binders, 6\"\" Capacity20.86\",2.0\n",
      "Inconsistent column count at line 502: OFF-PA-10002259,Office Supplies,Paper,\"Geographics Note Cards, Blank, White, 8 1/2\"\" x 11\"\"22.38\",2.0\n",
      "Inconsistent column count at line 531: OFF-BI-10001078,Office Supplies,Binders,\"Acco PRESSTEX Data Binder with Storage Hooks, Dark Blue, 14 7/8\"\" X 11\"\"16.14\",3.0\n",
      "Inconsistent column count at line 549: OFF-PA-10002377,Office Supplies,Paper,\"Adams Telephone Message Book W/Dividers/Space For Phone Numbers, 5 1/4\"\"X8 1/2\"\", 200/Messages17.04\",3.0\n",
      "Inconsistent column count at line 599: OFF-PA-10003072,Office Supplies,Paper,\"Eureka Recycled Copy Paper 8 1/2\"\" x 11\"\", Ream19.44\",3.0\n",
      "Inconsistent column count at line 601: OFF-BI-10004236,Office Supplies,Binders,\"XtraLife ClearVue Slant-D Ring Binder, White, 3\"\"29.36\",2.0\n",
      "Inconsistent column count at line 602: OFF-PA-10003883,Office Supplies,Paper,\"Message Book, Phone, Wirebound Standard Line Memo, 2 3/4\"\" X 5\"\"19.65\",3.0\n",
      "Inconsistent column count at line 606: OFF-BI-10000309,Office Supplies,Binders,\"GBC Twin Loop Wire Binding Elements, 9/16\"\" Spine, Black30.44\",2.0\n",
      "Inconsistent column count at line 607: OFF-BI-10001525,Office Supplies,Binders,\"Acco Pressboard Covers with Storage Hooks, 14 7/8\"\" x 11\"\", Executive Red15.24\",4.0\n",
      "Inconsistent column count at line 608: FUR-FU-10003878,Furniture,Furnishings,\"Linden 10\"\" Round Wall Clock, Black30.56\",2.0\n",
      "Inconsistent column count at line 619: OFF-BI-10000962,Office Supplies,Binders,\"Acco Flexible ACCOHIDE Square Ring Data Binder, Dark Blue, 11 1/2\"\" X 14\"\" 7/8\"\"32.54\",2.0\n",
      "Inconsistent column count at line 633: OFF-SU-10004261,Office Supplies,Supplies,\"Fiskars 8\"\" Scissors, 2/Pack34.48\",2.0\n",
      "Inconsistent column count at line 644: FUR-FU-10000260,Furniture,Furnishings,\"6\"\" Cubicle Wall Clock, Black24.27\",3.0\n",
      "Inconsistent column count at line 686: OFF-BI-10002225,Office Supplies,Binders,\"Square Ring Data Binders, Rigid 75 Pt. Covers, 11\"\" x 14-7/8\"\"41.28\",2.0\n",
      "Inconsistent column count at line 702: OFF-EN-10003567,Office Supplies,Envelopes,\"Inter-Office Recycled Envelopes, Brown Kraft, Button-String,10\"\" x 13\"\" , 100/Box43.96\",2.0\n",
      "Inconsistent column count at line 709: TEC-PH-10000702,Technology,Phones,\"Square Credit Card Reader, 4 1/2\"\" x 4 1/2\"\" x 1\"\", White29.97\",3.0\n",
      "Inconsistent column count at line 711: OFF-PA-10000007,Office Supplies,Paper,\"Telephone Message Books with Fax/Mobile Section, 4 1/4\"\" x 6\"\"18\",5.0\n",
      "Inconsistent column count at line 715: OFF-PA-10002222,Office Supplies,Paper,\"Xerox Color Copier Paper, 11\"\" x 17\"\", Ream45.68\",2.0\n",
      "Inconsistent column count at line 755: OFF-PA-10000807,Office Supplies,Paper,\"TOPS \"\"Important Message\"\" Pads, Canary, 4-1/4 x 5-1/2, 50 Sheets per Pad21.4\",5.0\n",
      "Inconsistent column count at line 756: FUR-FU-10004017,Furniture,Furnishings,\"Tenex Contemporary Contur Chairmats for Low and Medium Pile Carpet, Computer, 39\"\" x 49\"\"107.53\",1.0\n",
      "Inconsistent column count at line 764: OFF-PA-10001745,Office Supplies,Paper,\"Wirebound Message Books, 2 7/8\"\" x 5\"\", 3 Forms per Page28.16\",4.0\n",
      "Inconsistent column count at line 771: OFF-PA-10004041,Office Supplies,Paper,\"It's Hot Message Books with Stickers, 2 3/4\"\" x 5\"\"29.6\",4.0\n",
      "Inconsistent column count at line 791: OFF-ST-10002289,Office Supplies,Storage,\"Safco Wire Cube Shelving System, For Use as 4 or 5 14\"\" Cubes, Black63.56\",2.0\n",
      "Inconsistent column count at line 842: OFF-BI-10003007,Office Supplies,Binders,\"Premium Transparent Presentation Covers, No Pattern/Clear, 8 1/2\"\" x 11\"\"77.56\",2.0\n",
      "Inconsistent column count at line 859: OFF-BI-10001597,Office Supplies,Binders,\"Wilson Jones Ledger-Size, Piano-Hinge Binder, 2\"\", Blue81.96\",2.0\n",
      "Inconsistent column count at line 886: FUR-FU-10004245,Furniture,Furnishings,\"Career Cubicle Clock, 8 1/4\"\", Black60.84\",3.0\n",
      "Inconsistent column count at line 903: FUR-FU-10001475,Furniture,Furnishings,\"Contract Clock, 14\"\", Brown65.94\",3.0\n",
      "Inconsistent column count at line 918: OFF-ST-10004804,Office Supplies,Storage,\"Belkin 19\"\" Vented Equipment Shelf, Black102.96\",2.0\n",
      "Inconsistent column count at line 932: OFF-SU-10000898,Office Supplies,Supplies,\"Acme Hot Forged Carbon Steel Scissors with Nickel-Plated Handles, 3 7/8\"\" Cut, 8\"\"L55.6\",4.0\n",
      "Inconsistent column count at line 933: OFF-PA-10001509,Office Supplies,Paper,\"Recycled Desk Saver Line \"\"While You Were Out\"\" Book, 5 1/2\"\" X 4\"\"44.75\",5.0\n",
      "Inconsistent column count at line 942: OFF-ST-10003994,Office Supplies,Storage,\"Belkin 19\"\" Center-Weighted Shelf, Gray117.96\",2.0\n",
      "Inconsistent column count at line 955: OFF-BI-10003712,Office Supplies,Binders,\"Acco Pressboard Covers with Storage Hooks, 14 7/8\"\" x 11\"\", Light Blue34.37\",7.0\n",
      "Inconsistent column count at line 956: FUR-FU-10003708,Furniture,Furnishings,\"Tenex Traditional Chairmats for Medium Pile Carpet, Standard Lip, 36\"\" x 48\"\"121.3\",2.0\n",
      "Inconsistent column count at line 959: OFF-EN-10001453,Office Supplies,Envelopes,\"Tyvek Interoffice Envelopes, 9 1/2\"\" x 12 1/2\"\", 100/Box121.96\",2.0\n",
      "Inconsistent column count at line 968: OFF-BI-10002799,Office Supplies,Binders,\"SlimView Poly Binder, 3/8\"\"36.26\",7.0\n",
      "Inconsistent column count at line 971: OFF-BI-10004233,Office Supplies,Binders,\"GBC Pre-Punched Binding Paper, Plastic, White, 8-1/2\"\" x 11\"\"63.96\",4.0\n",
      "Inconsistent column count at line 974: FUR-FU-10002703,Furniture,Furnishings,\"Tenex Traditional Chairmats for Hard Floors, Average Lip, 36\"\" x 48\"\"128.9\",2.0\n",
      "Inconsistent column count at line 980: OFF-PA-10001583,Office Supplies,Paper,\"1/4 Fold Party Design Invitations & White Envelopes, 24 8-1/2\"\" X 11\"\" Cards, 25 Env./Pack44.1\",6.0\n",
      "Inconsistent column count at line 988: OFF-EN-10001141,Office Supplies,Envelopes,\"Manila Recycled Extra-Heavyweight Clasp Envelopes, 6\"\" x 9\"\"54.9\",5.0\n",
      "Inconsistent column count at line 993: FUR-FU-10000305,Furniture,Furnishings,\"Tenex V2T-RE Standard Weight Series Chair Mat, 45\"\" x 53\"\", Lip 25\"\" x 12\"\"141.96\",2.0\n",
      "Inconsistent column count at line 999: FUR-FU-10001876,Furniture,Furnishings,\"Computer Room Manger, 14\"\"97.44\",3.0\n",
      "Inconsistent column count at line 1015: OFF-BI-10001132,Office Supplies,Binders,\"Acco PRESSTEX Data Binder with Storage Hooks, Dark Blue, 9 1/2\"\" X 11\"\"43.04\",8.0\n",
      "Inconsistent column count at line 1039: OFF-BI-10002133,Office Supplies,Binders,\"Wilson Jones Elliptical Ring 3 1/2\"\" Capacity Binders, 800 sheets128.4\",3.0\n",
      "Inconsistent column count at line 1044: FUR-FU-10002937,Furniture,Furnishings,\"GE 48\"\" Fluorescent Tube, Cool White Energy Saver, 34 Watts, 30/Box198.46\",2.0\n",
      "Inconsistent column count at line 1054: FUR-FU-10001488,Furniture,Furnishings,\"Tenex 46\"\" x 60\"\" Computer Anti-Static Chairmat, Rectangular Shaped211.96\",2.0\n",
      "Inconsistent column count at line 1060: OFF-ST-10004186,Office Supplies,Storage,\"Stur-D-Stor Shelving, Vertical 5-Shelf: 72\"\"H x 36\"\"W x 18 1/2\"\"D221.96\",2.0\n",
      "Inconsistent column count at line 1102: OFF-ST-10002756,Office Supplies,Storage,\"Tennsco Stur-D-Stor Boltless Shelving, 5 Shelves, 24\"\" Deep, Sand270.62\",2.0\n",
      "Inconsistent column count at line 1195: FUR-FU-10002298,Furniture,Furnishings,\"Rubbermaid ClusterMat Chairmats, Mat Size- 66\"\" x 60\"\", Lip 20\"\" x 11\"\" -90 Degree Angle332.94\",3.0\n",
      "Inconsistent column count at line 1223: FUR-TA-10004915,Furniture,Tables,\"Office Impressions End Table, 20-1/2\"\"H x 24\"\"W x 20\"\"D607.52\",2.0\n",
      "Inconsistent column count at line 1227: FUR-FU-10001986,Furniture,Furnishings,\"Dana Fluorescent Magnifying Lamp, White, 36\"\"254.9\",5.0\n",
      "Inconsistent column count at line 1298: FUR-FU-10003806,Furniture,Furnishings,\"Tenex Chairmat w/ Average Lip, 45\"\" x 53\"\"756.8\",5.0\n",
      "Inconsistent column count at line 1402: OFF-BI-10001759,Office Supplies,Binders,\"Acco Pressboard Covers with Storage Hooks, 14 7/8\"\" x 11\"\", Dark Blue6.096\",2.0\n",
      "Inconsistent column count at line 1428: OFF-BI-10000042,Office Supplies,Binders,\"Pressboard Data Binder, Crimson, 12\"\" X 8 1/2\"\"12.816\",3.0\n",
      "Inconsistent column count at line 1431: OFF-PA-10002333,Office Supplies,Paper,\"Universal Ultra Bright White Copier/Laser Paper, 8 1/2\"\" x 11\"\", Ream15.552\",3.0\n",
      "Inconsistent column count at line 1437: OFF-BI-10003708,Office Supplies,Binders,\"Acco Four Pocket Poly Ring Binder with Label Holder, Smoke, 1\"\"17.88\",3.0\n",
      "Inconsistent column count at line 1448: OFF-BI-10000216,Office Supplies,Binders,\"Mead 1st Gear 2\"\" Zipper Binder, Asst. Colors31.128\",3.0\n",
      "Inconsistent column count at line 1459: OFF-BI-10002794,Office Supplies,Binders,\"Avery Trapezoid Ring Binder, 3\"\" Capacity, Black, 1040 sheets65.568\",2.0\n",
      "Inconsistent column count at line 1481: FUR-FU-10003798,Furniture,Furnishings,\"Ultra Door Kickplate, 8\"\"H x 34\"\"W79.12\",5.0\n"
     ]
    }
   ],
   "source": [
    "import pandas as pd\n",
    "\n",
    "# Load the generated CSV file\n",
    "file_path = 'unique_products.csv'\n",
    "try:\n",
    "    data = pd.read_csv(file_path)\n",
    "    print(f\"File loaded successfully with shape: {data.shape}\")\n",
    "    \n",
    "    # Validate row consistency\n",
    "    with open(file_path, 'r', encoding='utf-8') as file:\n",
    "        lines = file.readlines()\n",
    "        header_cols = len(lines[0].strip().split(','))\n",
    "        for i, line in enumerate(lines[1:], start=2):  # Start from the second line\n",
    "            if len(line.strip().split(',')) != header_cols:\n",
    "                print(f\"Inconsistent column count at line {i}: {line.strip()}\")\n",
    "except Exception as e:\n",
    "    print(f\"Error loading or validating the file: {e}\")\n"
   ]
  },
  {
   "cell_type": "code",
   "execution_count": 24,
   "metadata": {},
   "outputs": [
    {
     "name": "stdout",
     "output_type": "stream",
     "text": [
      "Cleaned file saved as unique_products_cleaned.csv\n"
     ]
    }
   ],
   "source": [
    "# Reload the DataFrame\n",
    "products = pd.read_csv('unique_products.csv')\n",
    "\n",
    "# Drop rows with NaN or mismatched column lengths\n",
    "products = products.dropna()  # Drop rows with missing values\n",
    "products.to_csv('unique_products_cleaned.csv', index=False)\n",
    "print(\"Cleaned file saved as unique_products_cleaned.csv\")"
   ]
  },
  {
   "cell_type": "code",
   "execution_count": 25,
   "metadata": {},
   "outputs": [],
   "source": [
    "import csv\n",
    "\n",
    "# File path to the CSV file\n",
    "file_path = 'unique_products.csv'\n",
    "\n",
    "# Validate CSV file row consistency\n",
    "try:\n",
    "    with open(file_path, 'r', encoding='utf-8') as file:\n",
    "        reader = csv.reader(file)\n",
    "        header = next(reader)  # Get the header row\n",
    "        header_length = len(header)\n",
    "\n",
    "        # Check each row for consistency\n",
    "        for i, row in enumerate(reader, start=2):  # Start at row 2 (after header)\n",
    "            if len(row) != header_length:\n",
    "                print(f\"Inconsistent column count at line {i}: {row}\")\n",
    "except Exception as e:\n",
    "    print(f\"Error reading file: {e}\")\n"
   ]
  }
 ],
 "metadata": {
  "kernelspec": {
   "display_name": "clean_env",
   "language": "python",
   "name": "python3"
  },
  "language_info": {
   "codemirror_mode": {
    "name": "ipython",
    "version": 3
   },
   "file_extension": ".py",
   "mimetype": "text/x-python",
   "name": "python",
   "nbconvert_exporter": "python",
   "pygments_lexer": "ipython3",
   "version": "3.9.20"
  }
 },
 "nbformat": 4,
 "nbformat_minor": 2
}
