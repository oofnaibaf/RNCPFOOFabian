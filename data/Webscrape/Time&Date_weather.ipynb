{
 "cells": [
  {
   "cell_type": "code",
   "execution_count": 13,
   "metadata": {},
   "outputs": [],
   "source": [
    "import requests\n",
    "from bs4 import BeautifulSoup\n"
   ]
  },
  {
   "cell_type": "code",
   "execution_count": 14,
   "metadata": {},
   "outputs": [
    {
     "name": "stdout",
     "output_type": "stream",
     "text": [
      "Current weather in Paris:\n",
      "Temperature: 3 °C\n",
      "Description: Description not found\n",
      "Location:: Villacoublay\n",
      "Current Time:: 13 jan 2025, 17 h 33 m 23\n",
      "Latest Report:: 13 jan 2025, 17 h 00\n",
      "Visibility:: 16 km\n",
      "Pressure:: 1038 mbar\n",
      "Humidity:: 56%\n",
      "Dew Point:: -5 °C\n"
     ]
    }
   ],
   "source": [
    "def get_paris_weather():\n",
    "    url = \"https://www.timeanddate.com/weather/france/paris\"\n",
    "    headers = {\n",
    "        \"User-Agent\": \"Mozilla/5.0 (Windows NT 10.0; Win64; x64) AppleWebKit/537.36 (KHTML, like Gecko) Chrome/58.0.3029.110 Safari/537.3\"\n",
    "    }\n",
    "    response = requests.get(url, headers=headers)\n",
    "\n",
    "    if response.status_code == 200:\n",
    "        soup = BeautifulSoup(response.content, \"html.parser\")\n",
    "        \n",
    "        # Extract temperature\n",
    "        temp_section = soup.find(\"div\", class_=\"h2\")\n",
    "        temperature = temp_section.text.strip() if temp_section else \"Temperature not found\"\n",
    "\n",
    "        # Extract weather description\n",
    "        desc_section = soup.find(\"p\", class_=\"bk-focus__qlook\")\n",
    "        description = desc_section.text.strip() if desc_section else \"Description not found\"\n",
    "\n",
    "        # Extract additional details\n",
    "        details_section = soup.find(\"div\", class_=\"bk-focus__info\")\n",
    "        weather_details = {}\n",
    "        if details_section:\n",
    "            details = details_section.find_all(\"tr\")\n",
    "            for detail in details:\n",
    "                key = detail.find(\"th\").text.strip() if detail.find(\"th\") else None\n",
    "                value = detail.find(\"td\").text.strip() if detail.find(\"td\") else None\n",
    "                if key and value:\n",
    "                    weather_details[key] = value\n",
    "\n",
    "        # Display the results\n",
    "        print(f\"Current weather in Paris:\")\n",
    "        print(f\"Temperature: {temperature}\")\n",
    "        print(f\"Description: {description}\")\n",
    "        for key, value in weather_details.items():\n",
    "            print(f\"{key}: {value}\")\n",
    "    else:\n",
    "        print(f\"Failed to retrieve data. HTTP Status code: {response.status_code}\")\n",
    "\n",
    "# Run the function\n",
    "get_paris_weather()\n"
   ]
  }
 ],
 "metadata": {
  "kernelspec": {
   "display_name": "CleanwFlask",
   "language": "python",
   "name": "python3"
  },
  "language_info": {
   "codemirror_mode": {
    "name": "ipython",
    "version": 3
   },
   "file_extension": ".py",
   "mimetype": "text/x-python",
   "name": "python",
   "nbconvert_exporter": "python",
   "pygments_lexer": "ipython3",
   "version": "3.9.20"
  }
 },
 "nbformat": 4,
 "nbformat_minor": 2
}
