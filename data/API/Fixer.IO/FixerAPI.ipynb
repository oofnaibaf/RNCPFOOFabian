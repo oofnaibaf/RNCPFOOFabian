{
 "cells": [
  {
   "cell_type": "code",
   "execution_count": 1,
   "metadata": {},
   "outputs": [
    {
     "name": "stdout",
     "output_type": "stream",
     "text": [
      "Exchange Rates: {'USD': 1.020159, 'GBP': 0.839932, 'JPY': 160.658713}\n"
     ]
    }
   ],
   "source": [
    "import requests\n",
    "\n",
    "# API Key\n",
    "api_key = \"da4974c1017374bac1f70ddaf9b57371\"\n",
    "\n",
    "# Base URL for Fixer API\n",
    "base_url = \"http://data.fixer.io/api/\"\n",
    "\n",
    "# Specify endpoint and parameters\n",
    "endpoint = \"latest\"\n",
    "params = {\n",
    "    \"access_key\": api_key,\n",
    "    \"base\": \"EUR\",  # Example base currency\n",
    "    \"symbols\": \"USD,GBP,JPY\"  # Target currencies\n",
    "}\n",
    "\n",
    "# Make a GET request\n",
    "response = requests.get(base_url + endpoint, params=params)\n",
    "\n",
    "# Check response and process\n",
    "if response.status_code == 200:\n",
    "    data = response.json()\n",
    "    if data[\"success\"]:\n",
    "        print(\"Exchange Rates:\", data[\"rates\"])\n",
    "    else:\n",
    "        print(\"Error:\", data[\"error\"][\"info\"])\n",
    "else:\n",
    "    print(\"Failed to connect. Status code:\", response.status_code)\n"
   ]
  }
 ],
 "metadata": {
  "kernelspec": {
   "display_name": "CleanwFlask",
   "language": "python",
   "name": "python3"
  },
  "language_info": {
   "codemirror_mode": {
    "name": "ipython",
    "version": 3
   },
   "file_extension": ".py",
   "mimetype": "text/x-python",
   "name": "python",
   "nbconvert_exporter": "python",
   "pygments_lexer": "ipython3",
   "version": "3.9.20"
  }
 },
 "nbformat": 4,
 "nbformat_minor": 2
}
