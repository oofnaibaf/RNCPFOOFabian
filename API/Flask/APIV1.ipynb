{
 "cells": [
  {
   "cell_type": "code",
   "execution_count": 16,
   "metadata": {},
   "outputs": [],
   "source": [
    "from flask import Flask, request, jsonify\n",
    "import mysql.connector\n",
    "from mysql.connector import Error\n",
    "from flask_cors import CORS\n"
   ]
  },
  {
   "cell_type": "code",
   "execution_count": 19,
   "metadata": {},
   "outputs": [
    {
     "name": "stdout",
     "output_type": "stream",
     "text": [
      " * Serving Flask app '__main__'\n",
      " * Debug mode: off\n"
     ]
    },
    {
     "name": "stderr",
     "output_type": "stream",
     "text": [
      "WARNING: This is a development server. Do not use it in a production deployment. Use a production WSGI server instead.\n",
      " * Running on http://127.0.0.1:5000\n",
      "INFO:werkzeug:\u001b[31m\u001b[1mWARNING: This is a development server. Do not use it in a production deployment. Use a production WSGI server instead.\u001b[0m\n",
      " * Running on http://127.0.0.1:5000\n",
      "Press CTRL+C to quit\n",
      "INFO:werkzeug:\u001b[33mPress CTRL+C to quit\u001b[0m\n",
      "DEBUG:mysql.connector:Building SSL context\n",
      "DEBUG:mysql.connector:Switching to SSL\n",
      "DEBUG:mysql.connector:SSL has been enabled\n",
      "DEBUG:mysql.connector:Starting authorization phase\n",
      "DEBUG:mysql.connector:The provided initial strategy is caching_sha2_password\n",
      "DEBUG:mysql.connector:Exchanging further packets\n",
      "DEBUG:mysql.connector:caching_sha2_password completed succesfully\n",
      "127.0.0.1 - - [13/Jan/2025 15:09:58] \"GET /api/customerlocations/filter?field=City&value=New%20York%20City HTTP/1.1\" 200 -\n",
      "INFO:werkzeug:127.0.0.1 - - [13/Jan/2025 15:09:58] \"GET /api/customerlocations/filter?field=City&value=New%20York%20City HTTP/1.1\" 200 -\n",
      "DEBUG:mysql.connector:Building SSL context\n",
      "DEBUG:mysql.connector:Switching to SSL\n",
      "DEBUG:mysql.connector:SSL has been enabled\n",
      "DEBUG:mysql.connector:Starting authorization phase\n",
      "DEBUG:mysql.connector:The provided initial strategy is caching_sha2_password\n",
      "DEBUG:mysql.connector:Exchanging further packets\n",
      "DEBUG:mysql.connector:caching_sha2_password completed succesfully\n",
      "127.0.0.1 - - [13/Jan/2025 15:11:00] \"GET /api/orderdetails/filter?field=OrderPriority&value=Medium HTTP/1.1\" 200 -\n",
      "INFO:werkzeug:127.0.0.1 - - [13/Jan/2025 15:11:00] \"GET /api/orderdetails/filter?field=OrderPriority&value=Medium HTTP/1.1\" 200 -\n",
      "DEBUG:mysql.connector:Building SSL context\n",
      "DEBUG:mysql.connector:Switching to SSL\n",
      "DEBUG:mysql.connector:SSL has been enabled\n",
      "DEBUG:mysql.connector:Starting authorization phase\n",
      "DEBUG:mysql.connector:The provided initial strategy is caching_sha2_password\n",
      "DEBUG:mysql.connector:Exchanging further packets\n",
      "DEBUG:mysql.connector:caching_sha2_password completed succesfully\n",
      "127.0.0.1 - - [13/Jan/2025 15:11:54] \"GET /api/orderdetails/filter?field=OrderPriority&value=High HTTP/1.1\" 200 -\n",
      "INFO:werkzeug:127.0.0.1 - - [13/Jan/2025 15:11:54] \"GET /api/orderdetails/filter?field=OrderPriority&value=High HTTP/1.1\" 200 -\n"
     ]
    }
   ],
   "source": [
    "\n",
    "app = Flask(__name__)\n",
    "CORS(app)\n",
    "\n",
    "# Allowed tables and their corresponding columns\n",
    "ALLOWED_TABLES = {\n",
    "    \"customerlocations\": [\"LocationID\", \"CustomerID\", \"City\", \"State\", \"Country\", \"PostalCode\"],\n",
    "    \"customers\": [\"CustomerID\", \"CustomerName\", \"Segment\"],\n",
    "    \"orderdetails\": [\"RowID\", \"OrderID\", \"ProductID\", \"Quantity\", \"ShippingCost\", \"OrderPriority\"],\n",
    "    \"orders\": [\"OrderID\", \"OrderDate\", \"ShippingDate\", \"ShippingMode\", \"CustomerID\"]\n",
    "}\n",
    "\n",
    "def get_database_connection():\n",
    "    \"\"\"Establish a connection to the MySQL database.\"\"\"\n",
    "    try:\n",
    "        conn = mysql.connector.connect(\n",
    "            host=\"127.0.0.1\",      # MySQL Hostname\n",
    "            user=\"root\",           # MySQL Username\n",
    "            password=\"q1w2e3r4\",  # Replace with your root password\n",
    "            database=\"globalsuperstore\"  # Your database name\n",
    "        )\n",
    "        return conn\n",
    "    except Error as e:\n",
    "        print(f\"Error connecting to MySQL: {e}\")\n",
    "        raise e\n",
    "\n",
    "@app.route('/api/<table_name>/filter', methods=['GET'])\n",
    "def filter_records(table_name):\n",
    "    \"\"\"Filter records based on field and value.\"\"\"\n",
    "    # Validate table name\n",
    "    if table_name not in ALLOWED_TABLES:\n",
    "        return jsonify({\"error\": f\"Invalid table name '{table_name}'\"}), 400\n",
    "\n",
    "    # Get field and value from query parameters\n",
    "    field = request.args.get('field')\n",
    "    value = request.args.get('value')\n",
    "\n",
    "    # Validate field\n",
    "    if not field or field not in ALLOWED_TABLES[table_name]:\n",
    "        return jsonify({\"error\": f\"Invalid field '{field}' for table '{table_name}'\"}), 400\n",
    "\n",
    "    if not value:\n",
    "        return jsonify({\"error\": \"Missing 'value' parameter\"}), 400\n",
    "\n",
    "    try:\n",
    "        conn = get_database_connection()\n",
    "        cursor = conn.cursor(dictionary=True)  # Ensures results are returned as dictionaries\n",
    "        query = f\"SELECT * FROM {table_name} WHERE {field} = %s\"\n",
    "        cursor.execute(query, (value,))\n",
    "        records = cursor.fetchall()\n",
    "        conn.close()\n",
    "\n",
    "        if not records:\n",
    "            return jsonify({\"message\": \"No records found\"}), 404\n",
    "        return jsonify(records)\n",
    "    except Error as e:\n",
    "        return jsonify({\"status\": \"error\", \"message\": str(e)}), 500\n",
    "\n",
    "if __name__ == '__main__':\n",
    "    app.run(debug=False)\n"
   ]
  }
 ],
 "metadata": {
  "kernelspec": {
   "display_name": "CleanwFlask",
   "language": "python",
   "name": "python3"
  },
  "language_info": {
   "codemirror_mode": {
    "name": "ipython",
    "version": 3
   },
   "file_extension": ".py",
   "mimetype": "text/x-python",
   "name": "python",
   "nbconvert_exporter": "python",
   "pygments_lexer": "ipython3",
   "version": "3.9.20"
  }
 },
 "nbformat": 4,
 "nbformat_minor": 2
}
